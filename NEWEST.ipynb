{
 "cells": [
  {
   "cell_type": "code",
   "execution_count": 134,
   "metadata": {},
   "outputs": [],
   "source": [
    "import csv\n",
    "import numpy as np\n",
    "import matplotlib.pyplot as plt\n",
    "import pandas as pd\n",
    "from sklearn.linear_model import LinearRegression\n",
    "import datetime\n",
    "import sys\n",
    "import os\n",
    "from sklearn.model_selection import train_test_split"
   ]
  },
  {
   "cell_type": "code",
   "execution_count": 135,
   "metadata": {},
   "outputs": [],
   "source": [
    "dataset=pd.read_csv('arcanut.csv')"
   ]
  },
  {
   "cell_type": "code",
   "execution_count": 136,
   "metadata": {},
   "outputs": [],
   "source": [
    "X=dataset.iloc[:, :-1].values #iloc to extract rows\n",
    "Y = dataset.iloc[:, 3].values"
   ]
  },
  {
   "cell_type": "code",
   "execution_count": 137,
   "metadata": {},
   "outputs": [],
   "source": [
    "from sklearn.model_selection import train_test_split\n",
    "X_train, X_test, Y_train, Y_test = train_test_split(X, Y, test_size = 0.1, random_state = 0)\n",
    "\n",
    "regressor = LinearRegression()\n",
    "\n",
    "regressor.fit(X_train, Y_train)\n",
    "\n",
    "Y_pred = regressor.predict(X_test)"
   ]
  },
  {
   "cell_type": "code",
   "execution_count": null,
   "metadata": {},
   "outputs": [],
   "source": []
  },
  {
   "cell_type": "code",
   "execution_count": 138,
   "metadata": {},
   "outputs": [],
   "source": [
    "now = datetime.datetime.now()\n",
    "month=now.month\n",
    "area=\"\"\n",
    "temp=[]\n",
    "temp_final=[]\n",
    "rain_fall=[]\n",
    "rainfall_final=[]\n",
    "prevtemp=0\n",
    "prevrainfall=0"
   ]
  },
  {
   "cell_type": "code",
   "execution_count": 139,
   "metadata": {},
   "outputs": [],
   "source": [
    "def main(area):\n",
    "    area=sys.argv[1]\n",
    "    area=area+' '\n",
    "    #print \"this is area:\", area\n",
    "    return str(area)\n",
    "area=main(area)"
   ]
  },
  {
   "cell_type": "code",
   "execution_count": 140,
   "metadata": {},
   "outputs": [],
   "source": [
    "def conv(nutrient):\n",
    "    nutrient_dict={'VL':1,'L':2,'M':3,'H':4,'VH':5 }\n",
    "    return  nutrient_dict.__getitem__(nutrient)"
   ]
  },
  {
   "cell_type": "code",
   "execution_count": 141,
   "metadata": {},
   "outputs": [],
   "source": [
    "with open('temprainfall.csv') as csvfile:\n",
    "    #print('this is area:'+area)\n",
    "    reader = csv.reader(csvfile,delimiter=',')\n",
    "    \n",
    "    flag=0\n",
    "    for row in reader:\n",
    "        #print \"this is area:\", area\n",
    "        row[0] == area\n",
    "        #print (\"this is area:\",area)\n",
    "        #print(row)\n",
    "        if flag==0:\n",
    "            state=row[1]\n",
    "            flag=1\n",
    "        temperature=(float(row[3])+float(row[4]))/2\n",
    "        #print(temperature)\n",
    "        temp.append(round(temperature,2))\n",
    "        #print(temp)\n",
    "        rain_fall.append(float(row[5])) \n",
    "        #print(temp)\n",
    "\n"
   ]
  },
  {
   "cell_type": "code",
   "execution_count": 142,
   "metadata": {},
   "outputs": [
    {
     "name": "stdout",
     "output_type": "stream",
     "text": [
      "[21.2, 23.35, 25.9, 27.6, 27.1, 24.6, 23.5, 23.4, 23.6, 23.4, 22.0, 20.8, 14.95, 17.2, 22.9, 28.85, 32.5, 32.8, 30.0, 29.2, 28.7, 25.8, 20.35, 16.0, 12.6, 15.3, 20.4, 27.15, 31.35, 34.1, 31.6, 30.35, 29.0, 25.15, 18.9, 13.95, 24.15, 26.05, 28.4, 29.75, 29.0, 27.15, 26.25, 26.5, 27.0, 26.55, 25.25, 23.95, 12.65, 14.65, 19.2, 24.4, 28.15, 28.9, 26.65, 25.9, 25.25, 22.1, 17.7, 13.95, 16.9, 19.05, 22.85, 25.6, 26.85, 28.25, 28.65, 28.8, 28.1, 26.05, 22.15, 18.15, 17.65, 20.05, 24.85, 29.9, 33.65, 31.95, 27.4, 26.55, 27.0, 25.2, 20.7, 17.6, 13.2, 15.7, 20.15, 26.15, 31.4, 33.35, 30.15, 29.0, 28.3, 25.1, 19.8, 14.95, 19.85, 22.8, 27.55, 30.3, 30.8, 30.1, 29.1, 28.95, 28.95, 27.8, 24.05, 20.3, 26.8, 27.4, 28.55, 29.5, 29.2, 26.55, 25.55, 25.7, 26.3, 27.0, 27.35, 27.0, 22.4, 24.5, 26.75, 27.75, 26.95, 24.65, 23.65, 23.75, 24.1, 24.15, 23.05, 22.0, 25.65, 25.9, 27.35, 28.9, 29.65, 27.55, 26.45, 26.4, 26.7, 27.6, 27.4, 26.4, 26.25, 26.35, 27.35, 28.6, 27.9, 27.0, 26.75, 26.65, 26.4, 26.65, 26.8, 26.5, 20.9, 22.5, 26.05, 29.0, 29.75, 27.4, 25.05, 24.45, 24.9, 25.3, 22.65, 20.55, 20.0, 22.3, 26.6, 30.15, 32.55, 31.85, 29.0, 27.8, 28.15, 28.5, 25.25, 21.6, 16.5, 19.2, 24.1, 28.45, 30.4, 28.6, 26.0, 25.65, 25.45, 23.75, 19.95, 16.7, 5.25, 6.2, 10.2, 14.9, 18.55, 19.75, 18.1, 17.35, 16.55, 14.3, 10.55, 7.6, 1.35, 3.4, 8.45, 13.35, 17.55, 21.7, 24.25, 23.7, 20.05, 13.85, 7.85, 3.25, 26.55, 27.1, 28.25, 28.7, 28.25, 26.6, 26.1, 26.25, 26.6, 26.55, 26.45, 26.55, 16.0, 19.0, 24.65, 30.4, 33.55, 33.35, 30.1, 29.4, 28.85, 26.7, 21.7, 17.1]\n",
      "[4.9, 7.9, 10.0, 43.9, 111.9, 79.7, 109.7, 138.8, 185.9, 161.7, 59.2, 17.4, 22.9, 25.3, 14.5, 8.9, 19.3, 106.4, 307.0, 290.9, 186.1, 44.9, 3.9, 9.7, 11.4, 13.2, 23.5, 8.8, 14.8, 34.1, 133.1, 120.2, 47.0, 7.8, 7.7, 6.8, 6.6, 8.9, 12.0, 49.4, 68.8, 84.4, 34.3, 28.4, 57.3, 136.7, 119.3, 40.8, 55.0, 58.8, 49.0, 22.5, 41.7, 201.8, 672.6, 728.2, 296.5, 49.8, 8.6, 24.4, 11.8, 17.2, 55.1, 147.0, 248.9, 316.8, 351.2, 269.4, 187.0, 90.9, 18.5, 7.3, 22.2, 23.4, 15.5, 7.7, 12.9, 167.3, 421.9, 422.9, 200.1, 39.9, 15.0, 9.9, 60.7, 62.8, 59.9, 35.7, 25.6, 72.7, 349.6, 319.1, 139.8, 23.8, 10.3, 33.0, 13.3, 25.6, 33.3, 51.2, 126.2, 282.4, 339.8, 333.2, 277.2, 138.9, 23.9, 6.4, 1.1, 0.2, 2.9, 24.4, 183.2, 1027.2, 1200.4, 787.3, 292.1, 190.8, 70.9, 16.4, 4.8, 5.1, 11.6, 62.4, 145.7, 67.3, 74.3, 78.6, 117.6, 158.7, 63.8, 14.3, 0.9, 0.1, 0.4, 10.2, 66.7, 874.0, 949.5, 515.9, 231.0, 102.6, 30.2, 8.8, 46.4, 26.5, 29.3, 69.0, 360.4, 501.1, 423.7, 425.1, 463.0, 300.7, 235.0, 154.6, 1.6, 1.1, 2.7, 13.6, 33.3, 120.4, 179.0, 106.4, 129.1, 78.8, 28.6, 5.3, 1.0, 1.0, 1.0, 1.6, 3.9, 98.9, 242.5, 174.3, 101.0, 53.2, 10.0, 0.8, 20.5, 25.7, 18.9, 41.2, 58.5, 216.3, 337.9, 326.8, 273.2, 99.7, 16.0, 6.1, 57.9, 64.2, 62.1, 46.1, 62.8, 161.1, 419.0, 385.9, 206.5, 38.5, 12.0, 23.2, 62.2, 71.4, 101.1, 90.7, 68.2, 36.3, 54.3, 64.6, 35.4, 30.9, 19.7, 41.4, 22.9, 21.9, 36.4, 110.5, 210.0, 343.5, 218.6, 143.2, 152.5, 267.9, 199.0, 70.2, 17.6, 15.0, 7.9, 4.4, 10.5, 96.6, 309.9, 273.2, 246.4, 35.1, 10.7, 6.5]\n"
     ]
    }
   ],
   "source": [
    "print(temp)\n",
    "print(rain_fall)"
   ]
  },
  {
   "cell_type": "code",
   "execution_count": 143,
   "metadata": {},
   "outputs": [],
   "source": [
    "def rainfall(temp_final,rainfall_final,temp,rain_fall):    \n",
    "    index=month-1\n",
    "    prevtemp=0\n",
    "    prevrainfall=0\n",
    "    \n",
    "    for i in range (1,4):\n",
    "        #print prev\n",
    "        prevtemp=prevtemp+temp[index]\n",
    "        temp_final.append(round((prevtemp/i),2))\n",
    "        prevrainfall=prevrainfall+rain_fall[index]\n",
    "        rainfall_final.append(round(prevrainfall,2))\n",
    "        index= index+1\n",
    "        if index==12:\n",
    "            index=0\n",
    "            "
   ]
  },
  {
   "cell_type": "code",
   "execution_count": 144,
   "metadata": {},
   "outputs": [
    {
     "name": "stdout",
     "output_type": "stream",
     "text": [
      "[]\n",
      "[]\n"
     ]
    }
   ],
   "source": [
    "print(rainfall_final)\n",
    "print(temp_final)"
   ]
  },
  {
   "cell_type": "code",
   "execution_count": 145,
   "metadata": {},
   "outputs": [],
   "source": [
    "def nutrients(state,rainfall_final,temp_final):\n",
    "    try:\n",
    "        #print('this is state:'+state)\n",
    "        with open('code/nutrientsarea.csv', 'r') as csvfile:\n",
    "            reader = csv.reader(csvfile)\n",
    "            \n",
    "            \n",
    "            for row in reader:\n",
    "                #print(row)\n",
    "                if row[0] == state:\n",
    "                    narea=conv(row[1])\n",
    "                    parea=conv(row[2])\n",
    "                    karea=conv(row[3])\n",
    "                    \n",
    "                    ph=row[4]\n",
    "    except IOError:\n",
    "       print (\"No file exists named nutrientsarea.csv\")\n",
    "       sys.exit(\"The required file does not exist!!!\")               \n",
    "    csvfile.close\n",
    "\n",
    "    #nutrient based filter of crops\n",
    "    try:\n",
    "        \n",
    "        with open('code/cropDB.csv', 'r') as csvfile, open('code/metacrops.csv', 'w') as metacrops:\n",
    "            reader = csv.reader(csvfile,delimiter=',')\n",
    "            writer=csv.writer(metacrops)\n",
    "            metacrops.writelines(\"Crop, Rainfall, Temperature, pH \\n\")\n",
    "            for row in reader:\n",
    "               ncrop=conv(row[8])\n",
    "               pcrop=conv(row[9])\n",
    "               kcrop=conv(row[10])\n",
    "               if(narea>=ncrop and parea>=pcrop and karea>=kcrop):\n",
    "                   #swriter.writerows(row)\n",
    "                   no_months=int(row[1])\n",
    "                   #print(no_months)\n",
    "                   #print(\"this in no months\",no_months)\n",
    "                   total=row[0]+\",\"+str(rainfall_final[no_months-1])+\",\"+str(temp_final[no_months-1])+\",\"+ph+\"\\n\"\n",
    "                   metacrops.writelines(total)\n",
    "                   #print (total)\n",
    "    except IOError:\n",
    "       print (\"No file exists named cropDB.csv\")\n",
    "       sys.exit(\"The required file does not exist!!!\")     \n",
    "    csvfile.close\n",
    "    metacrops.close "
   ]
  },
  {
   "cell_type": "code",
   "execution_count": 146,
   "metadata": {},
   "outputs": [],
   "source": [
    "def filewrite():\n",
    "    n=1\n",
    "    try:\n",
    "        with open(\"code/metacrops.csv\",'r') as f:\n",
    "            with open(\"code/metacrops11.csv\", \"w\") as f1:\n",
    "                for line in f:\n",
    "                    if n==1:\n",
    "                        n=n+1\n",
    "                        continue\n",
    "                    f1.write(line)\n",
    "    except IOError as e:\n",
    "            print (\"I/O error({0}): {1}\".format(e.errno, e.strerror))\n",
    "            sys.exit(\"No such file exists\")\n",
    "    f.close\n",
    "    f1.close  "
   ]
  },
  {
   "cell_type": "code",
   "execution_count": 147,
   "metadata": {},
   "outputs": [],
   "source": [
    "def regression():\n",
    "   \n",
    "# Data Preprocessing \n",
    "    n=0\n",
    "    crop_Y_pred=[]\n",
    "    crop_name=[]\n",
    "    dataset=pd.read_csv('code/regressiondb.csv')\n",
    "    locbased=pd.read_csv('code/metacrops.csv')\n",
    "    \n",
    "    try:\n",
    "       with open('code/metacrops11.csv', 'r') as csvfile:\n",
    "            reader = csv.reader(csvfile)\n",
    "            #metacrops.writelines(\"Crop,Production\\n\")\n",
    "            #os.remove('final.txt')\n",
    "            for row in reader:\n",
    "               crop=row[0]\n",
    "        # Importing the dataset\n",
    "               metadata=dataset.loc[dataset['Crop'] == crop]\n",
    "               X = metadata.iloc[:, :-2].values\n",
    "               Y = metadata.iloc[:, 4].values\n",
    "               \n",
    "               ##fitting MLR to training set  \n",
    "               ##regressor = LinearRegression()\n",
    "               ##regressor.fit(X, Y)\n",
    "              \n",
    "               X_train, X_test, Y_train, Y_test = train_test_split(X, Y, test_size = 0.1, random_state = 0)\n",
    "               regressor = LinearRegression()\n",
    "               regressor.fit(X_train, Y_train)  \n",
    "               \n",
    "               #predecting test set results\n",
    "               '''Y_pred_test = regressor.predict(X_test)\n",
    "               print(\"this is Y test:\", Y_test)\n",
    "               print \"\\n\"\n",
    "               print(\"this is Y predicted:\", Y_pred_test) '''\n",
    "       \n",
    "               #predecting final set results\n",
    "               X_locbased = locbased.loc[[n]].values #take all except 0th col that is crop name\n",
    "               X_locbased = X_locbased[:, 1:4]\n",
    "               Y_pred=regressor.predict(X_locbased)\n",
    "               \n",
    "               if Y_pred>0:\n",
    "                   crop_Y_pred.append(round(Y_pred[0],3))\n",
    "                   crop_name.append(crop)\n",
    "                                     \n",
    "       #print(crop_name,crop_Y_pred)\n",
    "       sorted_crops=quicksort(crop_name,crop_Y_pred,0,len(crop_Y_pred)-1)                       \n",
    "       csvfile.close\n",
    "       #return pred_crop\n",
    "       return sorted_crops\n",
    "   \n",
    "    except IOError:\n",
    "        print (\"No file exists named metacrops11.csv\")\n",
    "        sys.exit(\"No such file exists\")\n",
    "    os.remove('code/metacrops.csv')       \n",
    "    os.remove('code/metacrops11.csv')"
   ]
  },
  {
   "cell_type": "code",
   "execution_count": 148,
   "metadata": {},
   "outputs": [],
   "source": [
    "def quicksort(crop_name,crop_Y_pred,start, end):\n",
    "    if start < end:\n",
    "        # partition the list\n",
    "        pivot = partition(crop_name,crop_Y_pred, start, end)\n",
    "        # sort both halves\n",
    "        quicksort(crop_name,crop_Y_pred, start, pivot-1)\n",
    "        quicksort(crop_name,crop_Y_pred, pivot+1, end)\n",
    "    return crop_name\n"
   ]
  },
  {
   "cell_type": "code",
   "execution_count": 149,
   "metadata": {},
   "outputs": [],
   "source": [
    "def partition(crop_name,crop_Y_pred, start, end):\n",
    "    pivot = crop_Y_pred[start]\n",
    "    left = start+1\n",
    "    right = end\n",
    "    done = False\n",
    "    while not done:\n",
    "        while left <= right and crop_Y_pred[left] >= pivot:\n",
    "            left = left + 1\n",
    "        while crop_Y_pred[right] <= pivot and right >=left:\n",
    "            right = right -1\n",
    "        if right < left:\n",
    "            done= True\n",
    "        else:\n",
    "            # swap places Y_pred\n",
    "            temp=crop_Y_pred[left]\n",
    "            crop_Y_pred[left]=crop_Y_pred[right]\n",
    "            crop_Y_pred[right]=temp\n",
    "            \n",
    "            # swap places Y_crop\n",
    "            temp1=crop_name[left]\n",
    "            crop_name[left]=crop_name[right]\n",
    "            crop_name[right]=temp1\n",
    "            \n",
    "    # swap start with myList[right]\n",
    "    temp=crop_Y_pred[start]\n",
    "    crop_Y_pred[start]=crop_Y_pred[right]\n",
    "    crop_Y_pred[right]=temp\n",
    "    \n",
    "    # swap start with myList[right] for crop \n",
    "    temp1=crop_name[start]\n",
    "    crop_name[start]=crop_name[right]\n",
    "    crop_name[right]=temp1\n",
    "        \n",
    "    return right    \n",
    "#-----------------------------------------------------------------------------#  \n",
    "\n",
    "\n",
    "\n",
    "\n",
    "    '''reader = csv.DictReader(open('metasort.csv', 'r'))\n",
    "    result = sorted(reader, key=lambda d: float(d['Production']),reverse=True)\n",
    "    writer = csv.DictWriter(open('output.csv', 'w'), reader.fieldnames)\n",
    "    writer.writeheader()\n",
    "    writer.writerows(result)   \n",
    "    import json\n",
    "    jsonfile=open('sort.json','w')\n",
    "    jsonfile.write(json.dumps(list(csv.reader(open('output.csv')))))\n",
    "    os.remove('metacrops.csv')\n",
    "    os.remove('metacrops11.csv')\n",
    "'''\n",
    "\n",
    "\n"
   ]
  },
  {
   "cell_type": "code",
   "execution_count": 150,
   "metadata": {},
   "outputs": [
    {
     "name": "stdout",
     "output_type": "stream",
     "text": [
      "Bottle Gourd,Barley,Bean\n"
     ]
    }
   ],
   "source": [
    "def ListtoStr(sorted_crop):\n",
    "    pred_crop = \"\"\n",
    "    comma_flag=0\n",
    "    no=len(sorted_crop)\n",
    "    if(no>10):\n",
    "        no=10\n",
    "    for i in range (no):\n",
    "        if comma_flag==1:\n",
    "            pred_crop=pred_crop+\",\"\n",
    "                       \n",
    "        pred_crop= pred_crop + sorted_crop[i]\n",
    "        comma_flag=1\n",
    "    return pred_crop\n",
    "\n",
    "if __name__ == '__main__':\n",
    "\n",
    "    rainfall(temp_final,rainfall_final,temp,rain_fall)\n",
    "    \n",
    "    filewrite()\n",
    "    sorted_crop=regression()\n",
    "    final_crop=ListtoStr(sorted_crop)\n",
    "    #nutrients(state,rainfall_final,temp_final)\n",
    "    print (final_crop)"
   ]
  },
  {
   "cell_type": "code",
   "execution_count": null,
   "metadata": {},
   "outputs": [],
   "source": []
  },
  {
   "cell_type": "code",
   "execution_count": null,
   "metadata": {},
   "outputs": [],
   "source": []
  }
 ],
 "metadata": {
  "kernelspec": {
   "display_name": "Python 3",
   "language": "python",
   "name": "python3"
  },
  "language_info": {
   "codemirror_mode": {
    "name": "ipython",
    "version": 3
   },
   "file_extension": ".py",
   "mimetype": "text/x-python",
   "name": "python",
   "nbconvert_exporter": "python",
   "pygments_lexer": "ipython3",
   "version": "3.7.3"
  }
 },
 "nbformat": 4,
 "nbformat_minor": 4
}
